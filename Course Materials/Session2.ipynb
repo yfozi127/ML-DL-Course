{
  "nbformat": 4,
  "nbformat_minor": 0,
  "metadata": {
    "colab": {
      "provenance": []
    },
    "kernelspec": {
      "name": "python3",
      "display_name": "Python 3"
    },
    "language_info": {
      "name": "python"
    }
  },
  "cells": [
    {
      "cell_type": "code",
      "execution_count": 8,
      "metadata": {
        "colab": {
          "base_uri": "https://localhost:8080/"
        },
        "id": "XuSbRrXZyF5r",
        "outputId": "ac8e6db3-f579-4bc5-b1f1-655c305a36f8"
      },
      "outputs": [
        {
          "output_type": "stream",
          "name": "stdout",
          "text": [
            "5\n"
          ]
        }
      ],
      "source": [
        "import numpy as np\n",
        "a = 6\n",
        "v = np.array([4,5,6,3])\n",
        "print(v[1])"
      ]
    },
    {
      "cell_type": "code",
      "source": [
        "m = np.array([[1,2,3],[4,5,6]])\n",
        "print(m.shape)"
      ],
      "metadata": {
        "colab": {
          "base_uri": "https://localhost:8080/"
        },
        "id": "8SPlGZPx6qWZ",
        "outputId": "ae28cf71-aebf-43ac-d63e-cfc64afb3bd3"
      },
      "execution_count": 4,
      "outputs": [
        {
          "output_type": "stream",
          "name": "stdout",
          "text": [
            "(2, 3)\n"
          ]
        }
      ]
    },
    {
      "cell_type": "code",
      "source": [
        "import numpy.linalg as la"
      ],
      "metadata": {
        "id": "MXjAhmmH6_TC"
      },
      "execution_count": 14,
      "outputs": []
    },
    {
      "cell_type": "code",
      "source": [
        "n = np.array([[1,2],[3,4],[5,6]])\n",
        "y = np.dot(m,n)\n",
        "print(y.shape)"
      ],
      "metadata": {
        "colab": {
          "base_uri": "https://localhost:8080/"
        },
        "id": "BrFoIAfr88hh",
        "outputId": "f6d2b91a-86e1-4216-a63e-590d353cd2bf"
      },
      "execution_count": 11,
      "outputs": [
        {
          "output_type": "stream",
          "name": "stdout",
          "text": [
            "(2, 2)\n"
          ]
        }
      ]
    },
    {
      "cell_type": "code",
      "source": [
        "a = np.array([[4,2],[6,3]])\n",
        "\n",
        "#u = np.linalg.det(a)\n",
        "u = la.det(a)\n",
        "r = la.matrix_rank(a)\n",
        "inv = la.inv(a)"
      ],
      "metadata": {
        "colab": {
          "base_uri": "https://localhost:8080/",
          "height": 321
        },
        "id": "YB8cJDAd-KgM",
        "outputId": "9387a47b-2635-4b56-aa0b-fbe135935784"
      },
      "execution_count": 26,
      "outputs": [
        {
          "output_type": "error",
          "ename": "LinAlgError",
          "evalue": "Singular matrix",
          "traceback": [
            "\u001b[0;31m---------------------------------------------------------------------------\u001b[0m",
            "\u001b[0;31mLinAlgError\u001b[0m                               Traceback (most recent call last)",
            "\u001b[0;32m/tmp/ipython-input-1058765057.py\u001b[0m in \u001b[0;36m<cell line: 0>\u001b[0;34m()\u001b[0m\n\u001b[1;32m      4\u001b[0m \u001b[0mu\u001b[0m \u001b[0;34m=\u001b[0m \u001b[0mla\u001b[0m\u001b[0;34m.\u001b[0m\u001b[0mdet\u001b[0m\u001b[0;34m(\u001b[0m\u001b[0ma\u001b[0m\u001b[0;34m)\u001b[0m\u001b[0;34m\u001b[0m\u001b[0;34m\u001b[0m\u001b[0m\n\u001b[1;32m      5\u001b[0m \u001b[0mr\u001b[0m \u001b[0;34m=\u001b[0m \u001b[0mla\u001b[0m\u001b[0;34m.\u001b[0m\u001b[0mmatrix_rank\u001b[0m\u001b[0;34m(\u001b[0m\u001b[0ma\u001b[0m\u001b[0;34m)\u001b[0m\u001b[0;34m\u001b[0m\u001b[0;34m\u001b[0m\u001b[0m\n\u001b[0;32m----> 6\u001b[0;31m \u001b[0minv\u001b[0m \u001b[0;34m=\u001b[0m \u001b[0mla\u001b[0m\u001b[0;34m.\u001b[0m\u001b[0minv\u001b[0m\u001b[0;34m(\u001b[0m\u001b[0ma\u001b[0m\u001b[0;34m)\u001b[0m\u001b[0;34m\u001b[0m\u001b[0;34m\u001b[0m\u001b[0m\n\u001b[0m",
            "\u001b[0;32m/usr/local/lib/python3.11/dist-packages/numpy/linalg/_linalg.py\u001b[0m in \u001b[0;36minv\u001b[0;34m(a)\u001b[0m\n\u001b[1;32m    606\u001b[0m     with errstate(call=_raise_linalgerror_singular, invalid='call',\n\u001b[1;32m    607\u001b[0m                   over='ignore', divide='ignore', under='ignore'):\n\u001b[0;32m--> 608\u001b[0;31m         \u001b[0mainv\u001b[0m \u001b[0;34m=\u001b[0m \u001b[0m_umath_linalg\u001b[0m\u001b[0;34m.\u001b[0m\u001b[0minv\u001b[0m\u001b[0;34m(\u001b[0m\u001b[0ma\u001b[0m\u001b[0;34m,\u001b[0m \u001b[0msignature\u001b[0m\u001b[0;34m=\u001b[0m\u001b[0msignature\u001b[0m\u001b[0;34m)\u001b[0m\u001b[0;34m\u001b[0m\u001b[0;34m\u001b[0m\u001b[0m\n\u001b[0m\u001b[1;32m    609\u001b[0m     \u001b[0;32mreturn\u001b[0m \u001b[0mwrap\u001b[0m\u001b[0;34m(\u001b[0m\u001b[0mainv\u001b[0m\u001b[0;34m.\u001b[0m\u001b[0mastype\u001b[0m\u001b[0;34m(\u001b[0m\u001b[0mresult_t\u001b[0m\u001b[0;34m,\u001b[0m \u001b[0mcopy\u001b[0m\u001b[0;34m=\u001b[0m\u001b[0;32mFalse\u001b[0m\u001b[0;34m)\u001b[0m\u001b[0;34m)\u001b[0m\u001b[0;34m\u001b[0m\u001b[0;34m\u001b[0m\u001b[0m\n\u001b[1;32m    610\u001b[0m \u001b[0;34m\u001b[0m\u001b[0m\n",
            "\u001b[0;32m/usr/local/lib/python3.11/dist-packages/numpy/linalg/_linalg.py\u001b[0m in \u001b[0;36m_raise_linalgerror_singular\u001b[0;34m(err, flag)\u001b[0m\n\u001b[1;32m    102\u001b[0m \u001b[0;34m\u001b[0m\u001b[0m\n\u001b[1;32m    103\u001b[0m \u001b[0;32mdef\u001b[0m \u001b[0m_raise_linalgerror_singular\u001b[0m\u001b[0;34m(\u001b[0m\u001b[0merr\u001b[0m\u001b[0;34m,\u001b[0m \u001b[0mflag\u001b[0m\u001b[0;34m)\u001b[0m\u001b[0;34m:\u001b[0m\u001b[0;34m\u001b[0m\u001b[0;34m\u001b[0m\u001b[0m\n\u001b[0;32m--> 104\u001b[0;31m     \u001b[0;32mraise\u001b[0m \u001b[0mLinAlgError\u001b[0m\u001b[0;34m(\u001b[0m\u001b[0;34m\"Singular matrix\"\u001b[0m\u001b[0;34m)\u001b[0m\u001b[0;34m\u001b[0m\u001b[0;34m\u001b[0m\u001b[0m\n\u001b[0m\u001b[1;32m    105\u001b[0m \u001b[0;34m\u001b[0m\u001b[0m\n\u001b[1;32m    106\u001b[0m \u001b[0;32mdef\u001b[0m \u001b[0m_raise_linalgerror_nonposdef\u001b[0m\u001b[0;34m(\u001b[0m\u001b[0merr\u001b[0m\u001b[0;34m,\u001b[0m \u001b[0mflag\u001b[0m\u001b[0;34m)\u001b[0m\u001b[0;34m:\u001b[0m\u001b[0;34m\u001b[0m\u001b[0;34m\u001b[0m\u001b[0m\n",
            "\u001b[0;31mLinAlgError\u001b[0m: Singular matrix"
          ]
        }
      ]
    },
    {
      "cell_type": "code",
      "source": [
        "print(inv)"
      ],
      "metadata": {
        "colab": {
          "base_uri": "https://localhost:8080/"
        },
        "id": "Qx1WcZq--XHN",
        "outputId": "6ebe1f5f-49a5-4a55-9de4-e3c972c2c481"
      },
      "execution_count": 25,
      "outputs": [
        {
          "output_type": "stream",
          "name": "stdout",
          "text": [
            "[[ 0.4375 -0.125 ]\n",
            " [-0.375   0.25  ]]\n"
          ]
        }
      ]
    },
    {
      "cell_type": "code",
      "source": [
        "A = np.array([[2,3],[5,2]])\n",
        "b = np.array([6,-4])\n",
        "\n",
        "#X = np.linalg.inv(A).dot(b)\n",
        "X = np.linalg.solve(A,b)\n",
        "print(X)"
      ],
      "metadata": {
        "colab": {
          "base_uri": "https://localhost:8080/"
        },
        "id": "1ovBoAyJ_V1f",
        "outputId": "c30f24ef-949c-4f39-bc2a-40ad6a99b287"
      },
      "execution_count": 29,
      "outputs": [
        {
          "output_type": "stream",
          "name": "stdout",
          "text": [
            "[-2.18181818  3.45454545]\n"
          ]
        }
      ]
    },
    {
      "cell_type": "code",
      "source": [
        "print(v)"
      ],
      "metadata": {
        "colab": {
          "base_uri": "https://localhost:8080/"
        },
        "id": "oEyP4d2pBOm8",
        "outputId": "3b786d78-c1ac-4623-b77d-dee2ea0599f6"
      },
      "execution_count": 30,
      "outputs": [
        {
          "output_type": "stream",
          "name": "stdout",
          "text": [
            "[4 5 6 3]\n"
          ]
        }
      ]
    },
    {
      "cell_type": "code",
      "source": [
        "N1 = np.linalg.norm(v,1)\n",
        "N2 = np.linalg.norm(v,2)\n",
        "print(N1)\n",
        "print(N2)"
      ],
      "metadata": {
        "colab": {
          "base_uri": "https://localhost:8080/"
        },
        "id": "JjJ6uVyIDDxx",
        "outputId": "1d80390c-fd17-4ab5-88cb-fb360ec8d876"
      },
      "execution_count": 31,
      "outputs": [
        {
          "output_type": "stream",
          "name": "stdout",
          "text": [
            "18.0\n",
            "9.273618495495704\n"
          ]
        }
      ]
    },
    {
      "cell_type": "code",
      "source": [
        "print(A)"
      ],
      "metadata": {
        "colab": {
          "base_uri": "https://localhost:8080/"
        },
        "id": "QqyDha9fDNwN",
        "outputId": "69106b43-722b-49c7-e4c4-6a74999e2e2a"
      },
      "execution_count": 32,
      "outputs": [
        {
          "output_type": "stream",
          "name": "stdout",
          "text": [
            "[[2 3]\n",
            " [5 2]]\n"
          ]
        }
      ]
    },
    {
      "cell_type": "code",
      "source": [
        "N1 = np.linalg.norm(A,1)\n",
        "N2 = np.linalg.norm(A,2)\n",
        "NF = np.linalg.norm(A,'fro')\n",
        "print(N1)\n",
        "print(N2)\n",
        "print(NF)"
      ],
      "metadata": {
        "colab": {
          "base_uri": "https://localhost:8080/"
        },
        "id": "JkAEtno8DXPX",
        "outputId": "b714a421-f6e0-4c97-e894-3c354c15f177"
      },
      "execution_count": 34,
      "outputs": [
        {
          "output_type": "stream",
          "name": "stdout",
          "text": [
            "7.0\n",
            "6.23606797749979\n",
            "6.48074069840786\n"
          ]
        }
      ]
    },
    {
      "cell_type": "code",
      "source": [
        "A = np.array([[1,2,3],[4,5,6],[7,8,9]])\n",
        "print(A.shape)"
      ],
      "metadata": {
        "colab": {
          "base_uri": "https://localhost:8080/"
        },
        "id": "nqSEIl95Dej8",
        "outputId": "fdec2f59-2d10-4366-df2b-535efa3ea2ce"
      },
      "execution_count": 35,
      "outputs": [
        {
          "output_type": "stream",
          "name": "stdout",
          "text": [
            "(3, 3)\n"
          ]
        }
      ]
    },
    {
      "cell_type": "code",
      "source": [
        "Eval, Evec = la.eig(A)\n",
        "print(Eval)\n",
        "print(Evec)"
      ],
      "metadata": {
        "colab": {
          "base_uri": "https://localhost:8080/"
        },
        "id": "N7Tx2md8GHPS",
        "outputId": "0c014be6-a9f2-46d5-bfcd-0239e2d21ced"
      },
      "execution_count": 36,
      "outputs": [
        {
          "output_type": "stream",
          "name": "stdout",
          "text": [
            "[ 1.61168440e+01 -1.11684397e+00 -1.30367773e-15]\n",
            "[[-0.23197069 -0.78583024  0.40824829]\n",
            " [-0.52532209 -0.08675134 -0.81649658]\n",
            " [-0.8186735   0.61232756  0.40824829]]\n"
          ]
        }
      ]
    },
    {
      "cell_type": "code",
      "source": [
        "u1 = A.dot(Evec[:,1])\n",
        "u2 = Eval[1]*Evec[:,1]\n",
        "print(u1)\n",
        "print(u2)"
      ],
      "metadata": {
        "colab": {
          "base_uri": "https://localhost:8080/"
        },
        "id": "VCvJ0cazGUmj",
        "outputId": "6c9e8f49-4a13-46e7-b9c1-5b85bd7c8b1a"
      },
      "execution_count": 40,
      "outputs": [
        {
          "output_type": "stream",
          "name": "stdout",
          "text": [
            "[ 0.87764976  0.09688771 -0.68387434]\n",
            "[ 0.87764976  0.09688771 -0.68387434]\n"
          ]
        }
      ]
    },
    {
      "cell_type": "code",
      "source": [],
      "metadata": {
        "id": "cCoNYbeGHLCo"
      },
      "execution_count": null,
      "outputs": []
    },
    {
      "cell_type": "markdown",
      "source": [
        "Linear Regression"
      ],
      "metadata": {
        "id": "5hF0tWmJVFkL"
      }
    },
    {
      "cell_type": "code",
      "source": [
        "# Y = 2X-3\n",
        "\n",
        "x = np.array([4,8,3,-2,5])\n",
        "y = np.array([6,12.5,3.5,-7.5,6])\n",
        "n = len(x)\n",
        "xi = np.sum(x)\n",
        "yi = np.sum(y)\n",
        "xi2 = np.sum(x**2)\n",
        "xiyi = np.sum(x*y)\n",
        "\n",
        "w1 = (n*xiyi-xi*yi)/(n*xi2-xi**2)\n",
        "w0 = (yi-w1*xi)/n\n",
        "print(w0,w1)"
      ],
      "metadata": {
        "colab": {
          "base_uri": "https://localhost:8080/"
        },
        "id": "admwz1vOVHn5",
        "outputId": "2300f2f5-2d5a-42e8-b0e3-093daab5942d"
      },
      "execution_count": 41,
      "outputs": [
        {
          "output_type": "stream",
          "name": "stdout",
          "text": [
            "-3.0526315789473686 1.986842105263158\n"
          ]
        }
      ]
    },
    {
      "cell_type": "code",
      "source": [
        "X = np.c_[np.ones(n),x]\n",
        "print(X)"
      ],
      "metadata": {
        "colab": {
          "base_uri": "https://localhost:8080/"
        },
        "id": "Ql8s7FywWuD3",
        "outputId": "51537f72-6388-4bed-bd56-fbe1a05b3388"
      },
      "execution_count": 42,
      "outputs": [
        {
          "output_type": "stream",
          "name": "stdout",
          "text": [
            "[[ 1.  4.]\n",
            " [ 1.  8.]\n",
            " [ 1.  3.]\n",
            " [ 1. -2.]\n",
            " [ 1.  5.]]\n"
          ]
        }
      ]
    },
    {
      "cell_type": "code",
      "source": [
        "inv = la.inv(X.T.dot(X))\n",
        "w = inv.dot(X.T).dot(y)\n",
        "print(w)"
      ],
      "metadata": {
        "colab": {
          "base_uri": "https://localhost:8080/"
        },
        "id": "bgb5hIlnYuyn",
        "outputId": "b8221cc3-c022-4397-9fdb-c17a783a5f47"
      },
      "execution_count": 43,
      "outputs": [
        {
          "output_type": "stream",
          "name": "stdout",
          "text": [
            "[-3.05263158  1.98684211]\n"
          ]
        }
      ]
    },
    {
      "cell_type": "code",
      "source": [
        "def RMSE(Y_pred,Y):\n",
        "    return np.sqrt(np.mean((Y_pred-Y)**2))"
      ],
      "metadata": {
        "id": "tpZZ6ltXY-Rj"
      },
      "execution_count": 44,
      "outputs": []
    },
    {
      "cell_type": "code",
      "source": [
        "y_pred = X.dot(w)\n",
        "print(RMSE(y_pred,y))"
      ],
      "metadata": {
        "colab": {
          "base_uri": "https://localhost:8080/"
        },
        "id": "RlfX18ZmZfo1",
        "outputId": "06de3b18-a1f9-46bc-e9ae-eb923df3e4ac"
      },
      "execution_count": 45,
      "outputs": [
        {
          "output_type": "stream",
          "name": "stdout",
          "text": [
            "0.7335924582060819\n"
          ]
        }
      ]
    },
    {
      "cell_type": "code",
      "source": [
        "import matplotlib.pyplot as plt\n",
        "#plt.plot(x,y,'o')\n",
        "plt.scatter(x,y,color='red')\n",
        "plt.plot(x,y_pred,'-')\n",
        "plt.show()"
      ],
      "metadata": {
        "colab": {
          "base_uri": "https://localhost:8080/",
          "height": 430
        },
        "id": "Ler6ubD-ZuRW",
        "outputId": "71eae59e-2675-4767-fb67-9204371a82bb"
      },
      "execution_count": 49,
      "outputs": [
        {
          "output_type": "display_data",
          "data": {
            "text/plain": [
              "<Figure size 640x480 with 1 Axes>"
            ],
            "image/png": "[encoded data removed]"
          },
          "metadata": {}
        }
      ]
    },
    {
      "cell_type": "code",
      "source": [
        "x_poly = np.c_[np.ones(n)]\n",
        "D = 3\n",
        "for i in range(1,D+1):\n",
        "  x_poly = np.c_[x_poly,x**i]\n",
        "print(x_poly)"
      ],
      "metadata": {
        "colab": {
          "base_uri": "https://localhost:8080/"
        },
        "id": "B817y1d4aDX2",
        "outputId": "9a0e285e-7ecc-41d7-e25a-82faa4d4cf6c"
      },
      "execution_count": 68,
      "outputs": [
        {
          "output_type": "stream",
          "name": "stdout",
          "text": [
            "[[  1.   4.  16.  64.]\n",
            " [  1.   8.  64. 512.]\n",
            " [  1.   3.   9.  27.]\n",
            " [  1.  -2.   4.  -8.]\n",
            " [  1.   5.  25. 125.]]\n"
          ]
        }
      ]
    },
    {
      "cell_type": "code",
      "source": [
        "w = la.inv(x_poly.T.dot(x_poly)).dot(x_poly.T).dot(y)\n",
        "y_pred = x_poly.dot(w)\n",
        "print(RMSE(y_pred,y))"
      ],
      "metadata": {
        "colab": {
          "base_uri": "https://localhost:8080/"
        },
        "id": "_mrz_n2FdAzw",
        "outputId": "c5fb9078-79c4-499b-c433-e735b3e3d9af"
      },
      "execution_count": 69,
      "outputs": [
        {
          "output_type": "stream",
          "name": "stdout",
          "text": [
            "0.46772145050275504\n"
          ]
        }
      ]
    },
    {
      "cell_type": "code",
      "source": [
        "x_fit = np.linspace(np.min(x),np.max(x),n)\n",
        "x_fit_poly = np.c_[np.ones(len(x_fit))]\n",
        "for i in range(1,D+1):\n",
        "  x_fit_poly = np.c_[x_fit_poly,x_fit**i]\n",
        "y_fit = x_fit_poly.dot(w)\n",
        "plt.scatter(x,y,color='red')\n",
        "plt.plot(x_fit,y_fit,'-')"
      ],
      "metadata": {
        "colab": {
          "base_uri": "https://localhost:8080/",
          "height": 447
        },
        "id": "bmYtcEmRdQ9x",
        "outputId": "d308fe12-837f-47e1-af5b-a94e40b0e6e0"
      },
      "execution_count": 70,
      "outputs": [
        {
          "output_type": "execute_result",
          "data": {
            "text/plain": [
              "[<matplotlib.lines.Line2D at 0x7cbbd127a410>]"
            ]
          },
          "metadata": {},
          "execution_count": 70
        },
        {
          "output_type": "display_data",
          "data": {
            "text/plain": [
              "<Figure size 640x480 with 1 Axes>"
            ],
            "image/png": "[encoded data removed]"
          },
          "metadata": {}
        }
      ]
    },
    {
      "cell_type": "code",
      "source": [],
      "metadata": {
        "id": "RR9ren4beQV1"
      },
      "execution_count": null,
      "outputs": []
    }
  ]
}