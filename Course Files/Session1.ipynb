{
  "nbformat": 4,
  "nbformat_minor": 0,
  "metadata": {
    "colab": {
      "provenance": []
    },
    "kernelspec": {
      "name": "python3",
      "display_name": "Python 3"
    },
    "language_info": {
      "name": "python"
    }
  },
  "cells": [
    {
      "cell_type": "code",
      "execution_count": null,
      "metadata": {
        "id": "DeqHSAp0-ltQ"
      },
      "outputs": [],
      "source": []
    },
    {
      "cell_type": "markdown",
      "source": [
        "# topic\n",
        "this page\n",
        "* notebook\n",
        "  * tab\n",
        "\n",
        "**bold**\n",
        "[link](https:)"
      ],
      "metadata": {
        "id": "9oO5Ehfy-w4Y"
      }
    },
    {
      "cell_type": "code",
      "source": [
        "a = 4 + 5\n",
        "print(a)"
      ],
      "metadata": {
        "colab": {
          "base_uri": "https://localhost:8080/"
        },
        "id": "_M5RghA8-3Qp",
        "outputId": "8a540feb-083e-45d2-b93e-0632ac4b40f1"
      },
      "execution_count": 2,
      "outputs": [
        {
          "output_type": "stream",
          "name": "stdout",
          "text": [
            "9\n"
          ]
        }
      ]
    },
    {
      "cell_type": "code",
      "source": [
        "a = 4 + 5"
      ],
      "metadata": {
        "id": "Ih41ZMDR_09D"
      },
      "execution_count": 4,
      "outputs": []
    },
    {
      "cell_type": "code",
      "source": [
        "a = 5\n",
        "type(a)"
      ],
      "metadata": {
        "colab": {
          "base_uri": "https://localhost:8080/"
        },
        "id": "rJ0PCEZRAC2o",
        "outputId": "f771eead-b551-4993-94f4-5a752a7d4c61"
      },
      "execution_count": 2,
      "outputs": [
        {
          "output_type": "execute_result",
          "data": {
            "text/plain": [
              "int"
            ]
          },
          "metadata": {},
          "execution_count": 2
        }
      ]
    },
    {
      "cell_type": "code",
      "source": [
        "+ - *  **  /  // %"
      ],
      "metadata": {
        "id": "ZwO0WiS7B44Z"
      },
      "execution_count": null,
      "outputs": []
    },
    {
      "cell_type": "code",
      "source": [
        "a = 6%2\n",
        "print(a)"
      ],
      "metadata": {
        "colab": {
          "base_uri": "https://localhost:8080/"
        },
        "id": "FG91OQuQCNdd",
        "outputId": "7e877e42-d49f-47ab-9950-8431a2cc6677"
      },
      "execution_count": 9,
      "outputs": [
        {
          "output_type": "stream",
          "name": "stdout",
          "text": [
            "0\n"
          ]
        }
      ]
    },
    {
      "cell_type": "code",
      "source": [
        "t = False\n",
        "type(t)"
      ],
      "metadata": {
        "colab": {
          "base_uri": "https://localhost:8080/"
        },
        "id": "vJk8iFomCPHN",
        "outputId": "29e3de72-88ac-496d-f97b-19e7511c74c1"
      },
      "execution_count": 12,
      "outputs": [
        {
          "output_type": "execute_result",
          "data": {
            "text/plain": [
              "bool"
            ]
          },
          "metadata": {},
          "execution_count": 12
        }
      ]
    },
    {
      "cell_type": "code",
      "source": [
        "and or not"
      ],
      "metadata": {
        "id": "DZMZ2_ryCwvp"
      },
      "execution_count": null,
      "outputs": []
    },
    {
      "cell_type": "code",
      "source": [
        "t = True and True\n",
        "print(not t)"
      ],
      "metadata": {
        "colab": {
          "base_uri": "https://localhost:8080/"
        },
        "id": "MGC_Xz6nC7XY",
        "outputId": "858716be-4396-4d2c-fd7d-50943114b845"
      },
      "execution_count": 15,
      "outputs": [
        {
          "output_type": "stream",
          "name": "stdout",
          "text": [
            "False\n"
          ]
        }
      ]
    },
    {
      "cell_type": "code",
      "source": [
        "u = 5>6\n",
        "print(u)"
      ],
      "metadata": {
        "colab": {
          "base_uri": "https://localhost:8080/"
        },
        "id": "giRON3A5C-Ve",
        "outputId": "f6f2b725-cd0b-4d49-820d-a0a79117ca40"
      },
      "execution_count": 17,
      "outputs": [
        {
          "output_type": "stream",
          "name": "stdout",
          "text": [
            "False\n"
          ]
        }
      ]
    },
    {
      "cell_type": "code",
      "source": [
        "> < >= <= == !="
      ],
      "metadata": {
        "id": "ztca8QZADJOg"
      },
      "execution_count": null,
      "outputs": []
    },
    {
      "cell_type": "code",
      "source": [
        "t = 5 != 4\n",
        "print(t)"
      ],
      "metadata": {
        "colab": {
          "base_uri": "https://localhost:8080/"
        },
        "id": "ByvBsDmvDSBC",
        "outputId": "56ce2af2-cb63-40e3-a72b-8c098a027334"
      },
      "execution_count": 1,
      "outputs": [
        {
          "output_type": "stream",
          "name": "stdout",
          "text": [
            "True\n"
          ]
        }
      ]
    },
    {
      "cell_type": "code",
      "source": [
        "methods"
      ],
      "metadata": {
        "id": "oM_iJWyiDmgV"
      },
      "execution_count": null,
      "outputs": []
    },
    {
      "cell_type": "code",
      "source": [
        "a = \"Amir\"\n",
        "print(a)"
      ],
      "metadata": {
        "colab": {
          "base_uri": "https://localhost:8080/"
        },
        "id": "1D1o5zK1Dw6e",
        "outputId": "37afabf8-c733-41b6-b045-5dd071e6dfa8"
      },
      "execution_count": 4,
      "outputs": [
        {
          "output_type": "stream",
          "name": "stdout",
          "text": [
            "Amir\n"
          ]
        }
      ]
    },
    {
      "cell_type": "code",
      "source": [
        "y = len(a)\n",
        "print(y)"
      ],
      "metadata": {
        "colab": {
          "base_uri": "https://localhost:8080/"
        },
        "id": "p8H6OXITEOQQ",
        "outputId": "26ff5a82-2a5b-433a-f1c9-77539cb598e0"
      },
      "execution_count": 5,
      "outputs": [
        {
          "output_type": "stream",
          "name": "stdout",
          "text": [
            "4\n"
          ]
        }
      ]
    },
    {
      "cell_type": "code",
      "source": [
        "a = 'amir' + 'ali'\n",
        "print(a)"
      ],
      "metadata": {
        "colab": {
          "base_uri": "https://localhost:8080/"
        },
        "id": "QOiLe0CNEgdE",
        "outputId": "eaf9449e-4ae9-4145-c317-fc424c51e4a5"
      },
      "execution_count": 6,
      "outputs": [
        {
          "output_type": "stream",
          "name": "stdout",
          "text": [
            "amirali\n"
          ]
        }
      ]
    },
    {
      "cell_type": "code",
      "source": [
        "s = 'tha number %d and the name is %s' % (4,'Ali')\n",
        "print(s)"
      ],
      "metadata": {
        "colab": {
          "base_uri": "https://localhost:8080/"
        },
        "id": "2sCknuvwEpVv",
        "outputId": "2dd4db7c-cb73-4985-b98c-0b8bb75876e4"
      },
      "execution_count": 7,
      "outputs": [
        {
          "output_type": "stream",
          "name": "stdout",
          "text": [
            "tha number 4 and the name is Ali\n"
          ]
        }
      ]
    },
    {
      "cell_type": "code",
      "source": [
        "a = 'ali'\n",
        "print(a.capitalize())\n",
        "print(a.upper())"
      ],
      "metadata": {
        "colab": {
          "base_uri": "https://localhost:8080/"
        },
        "id": "1oiHVn-_FHe1",
        "outputId": "38ded801-22b2-4884-af07-6ef038be4eba"
      },
      "execution_count": 11,
      "outputs": [
        {
          "output_type": "stream",
          "name": "stdout",
          "text": [
            "Ali\n",
            "ALI\n"
          ]
        }
      ]
    },
    {
      "cell_type": "code",
      "source": [
        "y = a.replace('a','e')\n",
        "print(y)"
      ],
      "metadata": {
        "colab": {
          "base_uri": "https://localhost:8080/"
        },
        "id": "A9pQT3ilFU7t",
        "outputId": "3090f45d-1712-4683-b0bd-f0b55aa07586"
      },
      "execution_count": 13,
      "outputs": [
        {
          "output_type": "stream",
          "name": "stdout",
          "text": [
            "eli\n"
          ]
        }
      ]
    },
    {
      "cell_type": "code",
      "source": [
        "list"
      ],
      "metadata": {
        "id": "DulczU2qF7OU"
      },
      "execution_count": null,
      "outputs": []
    },
    {
      "cell_type": "code",
      "source": [
        "a = [4,'ali',8,[6,'amir']]\n",
        "type(a)\n",
        "print(len(a))"
      ],
      "metadata": {
        "colab": {
          "base_uri": "https://localhost:8080/"
        },
        "id": "cB6-HeZxGgTJ",
        "outputId": "6a10c066-ce53-44bc-82c8-b1a6c387fe2a"
      },
      "execution_count": 15,
      "outputs": [
        {
          "output_type": "stream",
          "name": "stdout",
          "text": [
            "4\n"
          ]
        }
      ]
    },
    {
      "cell_type": "code",
      "source": [
        "print(a[1])\n",
        "u = a[-1][-1]\n",
        "print(u)"
      ],
      "metadata": {
        "colab": {
          "base_uri": "https://localhost:8080/"
        },
        "id": "zHy1nPL0Gt4F",
        "outputId": "3b6f6009-c19d-41b1-aaf7-72e7f92b09ac"
      },
      "execution_count": 19,
      "outputs": [
        {
          "output_type": "stream",
          "name": "stdout",
          "text": [
            "ali\n",
            "amir\n"
          ]
        }
      ]
    },
    {
      "cell_type": "code",
      "source": [
        "u = a[1:]\n",
        "print(u)"
      ],
      "metadata": {
        "colab": {
          "base_uri": "https://localhost:8080/"
        },
        "id": "57eK7X8NHLS6",
        "outputId": "db0844b2-4465-4b36-a29c-3500063bbf0a"
      },
      "execution_count": 26,
      "outputs": [
        {
          "output_type": "stream",
          "name": "stdout",
          "text": [
            "['ali', 8, [6, 'amir']]\n"
          ]
        }
      ]
    },
    {
      "cell_type": "code",
      "source": [
        "print(a)"
      ],
      "metadata": {
        "colab": {
          "base_uri": "https://localhost:8080/"
        },
        "id": "vjQkc7clHz0c",
        "outputId": "5df3e445-4f7d-435a-9e0f-5fbc042f7e64"
      },
      "execution_count": 27,
      "outputs": [
        {
          "output_type": "stream",
          "name": "stdout",
          "text": [
            "[4, 'ali', 8, [6, 'amir']]\n"
          ]
        }
      ]
    },
    {
      "cell_type": "code",
      "source": [
        "a[1] = 10\n",
        "print(a)"
      ],
      "metadata": {
        "colab": {
          "base_uri": "https://localhost:8080/"
        },
        "id": "lDUfV73_NINj",
        "outputId": "cc428356-69b2-42ea-dbee-061cd8f95a55"
      },
      "execution_count": 28,
      "outputs": [
        {
          "output_type": "stream",
          "name": "stdout",
          "text": [
            "[4, 10, 8, [6, 'amir']]\n"
          ]
        }
      ]
    },
    {
      "cell_type": "code",
      "source": [
        "for i in a:\n",
        "  print(i)"
      ],
      "metadata": {
        "colab": {
          "base_uri": "https://localhost:8080/"
        },
        "id": "ENr-HfPJNTqj",
        "outputId": "16992c20-8f4d-4206-9b0b-c5369e3089d4"
      },
      "execution_count": 29,
      "outputs": [
        {
          "output_type": "stream",
          "name": "stdout",
          "text": [
            "4\n",
            "10\n",
            "8\n",
            "[6, 'amir']\n"
          ]
        }
      ]
    },
    {
      "cell_type": "code",
      "source": [
        "y = list(enumerate(a))\n",
        "print(y)"
      ],
      "metadata": {
        "colab": {
          "base_uri": "https://localhost:8080/"
        },
        "id": "ugMAjsrQOQou",
        "outputId": "68abcd2f-def1-4ab1-977f-8d6b8d8cb64c"
      },
      "execution_count": 31,
      "outputs": [
        {
          "output_type": "stream",
          "name": "stdout",
          "text": [
            "[(0, 4), (1, 10), (2, 8), (3, [6, 'amir'])]\n"
          ]
        }
      ]
    },
    {
      "cell_type": "code",
      "source": [
        "for i,j in enumerate(a):\n",
        "  print(i,j)"
      ],
      "metadata": {
        "colab": {
          "base_uri": "https://localhost:8080/"
        },
        "id": "L9MIQUtBOkui",
        "outputId": "865b402a-4524-4291-8e77-71fdbf7b3040"
      },
      "execution_count": 32,
      "outputs": [
        {
          "output_type": "stream",
          "name": "stdout",
          "text": [
            "0 4\n",
            "1 10\n",
            "2 8\n",
            "3 [6, 'amir']\n"
          ]
        }
      ]
    },
    {
      "cell_type": "code",
      "source": [
        "a = ['cat','dog','bird']\n",
        "for i,j in enumerate(a):\n",
        "  print(i,j)"
      ],
      "metadata": {
        "colab": {
          "base_uri": "https://localhost:8080/"
        },
        "id": "ITKnxp80PKU-",
        "outputId": "a2dd4bbc-1e2c-4108-8fd5-c94a65375e80"
      },
      "execution_count": 33,
      "outputs": [
        {
          "output_type": "stream",
          "name": "stdout",
          "text": [
            "0 cat\n",
            "1 dog\n",
            "2 bird\n"
          ]
        }
      ]
    },
    {
      "cell_type": "code",
      "source": [
        "a = [4,6,'ali']\n",
        "a.append(10)\n",
        "print(a)"
      ],
      "metadata": {
        "colab": {
          "base_uri": "https://localhost:8080/"
        },
        "id": "gy4cYpAPPaBP",
        "outputId": "01fcf565-e054-4de4-bc46-6ebef8401698"
      },
      "execution_count": 34,
      "outputs": [
        {
          "output_type": "stream",
          "name": "stdout",
          "text": [
            "[4, 6, 'ali', 10]\n"
          ]
        }
      ]
    },
    {
      "cell_type": "code",
      "source": [
        "a.extend(['reza',8])\n",
        "print(a)"
      ],
      "metadata": {
        "colab": {
          "base_uri": "https://localhost:8080/"
        },
        "id": "0bCB2WoePwHF",
        "outputId": "cd9e09d3-82ca-4b5c-b0b7-52857cb5171e"
      },
      "execution_count": 35,
      "outputs": [
        {
          "output_type": "stream",
          "name": "stdout",
          "text": [
            "[4, 6, 'ali', 10, 'reza', 8]\n"
          ]
        }
      ]
    },
    {
      "cell_type": "code",
      "source": [
        "n = [0,1,2,3,4]\n",
        "r = []\n",
        "for i in n:\n",
        "  r.append(i**2)\n",
        "\n",
        "print(r)\n"
      ],
      "metadata": {
        "colab": {
          "base_uri": "https://localhost:8080/"
        },
        "id": "cEgs4rk7P8vo",
        "outputId": "5eb450ab-d1d1-40f2-a44f-f882ca950f8c"
      },
      "execution_count": 37,
      "outputs": [
        {
          "output_type": "stream",
          "name": "stdout",
          "text": [
            "[0, 1, 4, 9, 16]\n"
          ]
        }
      ]
    },
    {
      "cell_type": "code",
      "source": [
        "r = [i**2 for i in n]\n",
        "print(r)"
      ],
      "metadata": {
        "colab": {
          "base_uri": "https://localhost:8080/"
        },
        "id": "mAlqhJdoQMh9",
        "outputId": "09469c32-ed99-44e4-a82a-539ec59b1d26"
      },
      "execution_count": 38,
      "outputs": [
        {
          "output_type": "stream",
          "name": "stdout",
          "text": [
            "[0, 1, 4, 9, 16]\n"
          ]
        }
      ]
    },
    {
      "cell_type": "code",
      "source": [
        "r1 = []\n",
        "for i in n:\n",
        "  if i%2 == 0:\n",
        "    r1.append(i**2)\n",
        "\n",
        "print(r1)"
      ],
      "metadata": {
        "colab": {
          "base_uri": "https://localhost:8080/"
        },
        "id": "ZN_aYXT_Qxig",
        "outputId": "aa3a0fa1-160b-4bde-9a97-35a1d9803eda"
      },
      "execution_count": 40,
      "outputs": [
        {
          "output_type": "stream",
          "name": "stdout",
          "text": [
            "[0, 4, 16]\n"
          ]
        }
      ]
    },
    {
      "cell_type": "code",
      "source": [
        "r1 = [i**2 for i in n if i%2 == 0]\n",
        "print(r1)"
      ],
      "metadata": {
        "colab": {
          "base_uri": "https://localhost:8080/"
        },
        "id": "yQ7FZwSQRKQA",
        "outputId": "02ed8103-400c-48d6-f480-3c18c82b6902"
      },
      "execution_count": 41,
      "outputs": [
        {
          "output_type": "stream",
          "name": "stdout",
          "text": [
            "[0, 4, 16]\n"
          ]
        }
      ]
    },
    {
      "cell_type": "code",
      "source": [
        "dictionaries"
      ],
      "metadata": {
        "id": "kODZArGSRyui"
      },
      "execution_count": null,
      "outputs": []
    },
    {
      "cell_type": "code",
      "source": [
        "a = {'a':12, 'b':[7,'amir']}\n",
        "a['c'] = 'reza'\n",
        "print(a)"
      ],
      "metadata": {
        "colab": {
          "base_uri": "https://localhost:8080/"
        },
        "id": "mM5gSrJFR-KQ",
        "outputId": "d9e95634-00d8-4eaa-c3d9-0ac9c14055b6"
      },
      "execution_count": 46,
      "outputs": [
        {
          "output_type": "stream",
          "name": "stdout",
          "text": [
            "{'a': 12, 'b': [7, 'amir'], 'c': 'reza'}\n"
          ]
        }
      ]
    },
    {
      "cell_type": "code",
      "source": [
        "t = a.items()\n",
        "print(t)"
      ],
      "metadata": {
        "colab": {
          "base_uri": "https://localhost:8080/"
        },
        "id": "h_TFTk0TSaDQ",
        "outputId": "2ae3c382-a90a-445d-a3ba-32e4801df100"
      },
      "execution_count": 47,
      "outputs": [
        {
          "output_type": "stream",
          "name": "stdout",
          "text": [
            "dict_items([('a', 12), ('b', [7, 'amir']), ('c', 'reza')])\n"
          ]
        }
      ]
    },
    {
      "cell_type": "code",
      "source": [
        "for i,j in a.items():\n",
        "  print(i,j)"
      ],
      "metadata": {
        "colab": {
          "base_uri": "https://localhost:8080/"
        },
        "id": "KANDda3ATNjK",
        "outputId": "6009f0fe-f8d2-4d03-d157-6b1f360fe5dd"
      },
      "execution_count": 48,
      "outputs": [
        {
          "output_type": "stream",
          "name": "stdout",
          "text": [
            "a 12\n",
            "b [7, 'amir']\n",
            "c reza\n"
          ]
        }
      ]
    },
    {
      "cell_type": "code",
      "source": [
        "sets"
      ],
      "metadata": {
        "id": "yOeKGRlFTcsX"
      },
      "execution_count": null,
      "outputs": []
    },
    {
      "cell_type": "code",
      "source": [
        "a = {'ali',4,'reza',4}\n",
        "print(a)"
      ],
      "metadata": {
        "colab": {
          "base_uri": "https://localhost:8080/"
        },
        "id": "3GgZQ1u1Tnic",
        "outputId": "2bf4aeed-b55e-41d9-b207-9f1290bb569e"
      },
      "execution_count": 50,
      "outputs": [
        {
          "output_type": "stream",
          "name": "stdout",
          "text": [
            "{'ali', 'reza', 4}\n"
          ]
        }
      ]
    },
    {
      "cell_type": "code",
      "source": [
        "a.add(6)\n",
        "print(a)\n"
      ],
      "metadata": {
        "colab": {
          "base_uri": "https://localhost:8080/"
        },
        "id": "VdlX29BXTvY9",
        "outputId": "92bd8a86-f42c-45dd-dbd1-64147093dff7"
      },
      "execution_count": 52,
      "outputs": [
        {
          "output_type": "stream",
          "name": "stdout",
          "text": [
            "{'ali', 'reza', 4, 6}\n"
          ]
        }
      ]
    },
    {
      "cell_type": "code",
      "source": [
        "a.remove('reza')\n",
        "print(a)"
      ],
      "metadata": {
        "colab": {
          "base_uri": "https://localhost:8080/"
        },
        "id": "9fbOem1bT5fS",
        "outputId": "dafb4232-bd3c-4e5b-e4e3-07773df3d1be"
      },
      "execution_count": 53,
      "outputs": [
        {
          "output_type": "stream",
          "name": "stdout",
          "text": [
            "{'ali', 4, 6}\n"
          ]
        }
      ]
    },
    {
      "cell_type": "code",
      "source": [
        "tuple"
      ],
      "metadata": {
        "id": "nwWWjuCXUMLA"
      },
      "execution_count": null,
      "outputs": []
    },
    {
      "cell_type": "code",
      "source": [
        "a = (4,'ali',[4,5])\n",
        "type(a)"
      ],
      "metadata": {
        "colab": {
          "base_uri": "https://localhost:8080/"
        },
        "id": "mS0b39otURaY",
        "outputId": "33214d68-9cf7-4982-97a7-dd5cf0ca6169"
      },
      "execution_count": 54,
      "outputs": [
        {
          "output_type": "execute_result",
          "data": {
            "text/plain": [
              "tuple"
            ]
          },
          "metadata": {},
          "execution_count": 54
        }
      ]
    },
    {
      "cell_type": "code",
      "source": [
        "t = a[-1]\n",
        "print(t)"
      ],
      "metadata": {
        "colab": {
          "base_uri": "https://localhost:8080/"
        },
        "id": "EDMwXz8ZUbAH",
        "outputId": "85ebf3ba-b4e0-443e-8fd5-657a16cc7330"
      },
      "execution_count": 55,
      "outputs": [
        {
          "output_type": "stream",
          "name": "stdout",
          "text": [
            "[4, 5]\n"
          ]
        }
      ]
    },
    {
      "cell_type": "code",
      "source": [
        "a[0] = 8"
      ],
      "metadata": {
        "colab": {
          "base_uri": "https://localhost:8080/",
          "height": 141
        },
        "id": "QzV2juhuUfpF",
        "outputId": "f64006d3-b264-4625-8b3f-97218412a345"
      },
      "execution_count": 56,
      "outputs": [
        {
          "output_type": "error",
          "ename": "TypeError",
          "evalue": "'tuple' object does not support item assignment",
          "traceback": [
            "\u001b[0;31m---------------------------------------------------------------------------\u001b[0m",
            "\u001b[0;31mTypeError\u001b[0m                                 Traceback (most recent call last)",
            "\u001b[0;32m/tmp/ipython-input-1956525082.py\u001b[0m in \u001b[0;36m<cell line: 0>\u001b[0;34m()\u001b[0m\n\u001b[0;32m----> 1\u001b[0;31m \u001b[0ma\u001b[0m\u001b[0;34m[\u001b[0m\u001b[0;36m0\u001b[0m\u001b[0;34m]\u001b[0m \u001b[0;34m=\u001b[0m \u001b[0;36m8\u001b[0m\u001b[0;34m\u001b[0m\u001b[0;34m\u001b[0m\u001b[0m\n\u001b[0m",
            "\u001b[0;31mTypeError\u001b[0m: 'tuple' object does not support item assignment"
          ]
        }
      ]
    },
    {
      "cell_type": "code",
      "source": [
        "def sign(a):\n",
        "  if a>0:\n",
        "    return 'Positive'\n",
        "  elif a<0:\n",
        "    return 'Negative'\n",
        "  else:\n",
        "    return 'Zero'\n",
        "\n",
        "a = int(input('Enter the number:'))\n",
        "y = sign(a)\n",
        "print(y)"
      ],
      "metadata": {
        "colab": {
          "base_uri": "https://localhost:8080/"
        },
        "id": "Io_YX8UwUj-n",
        "outputId": "748c3767-d9ca-4ddd-9da3-73130e274a11"
      },
      "execution_count": 61,
      "outputs": [
        {
          "output_type": "stream",
          "name": "stdout",
          "text": [
            "Enter the number:-7\n",
            "Negative\n"
          ]
        }
      ]
    },
    {
      "cell_type": "code",
      "source": [
        "class Greeter(object):\n",
        "  def __init__(self, name):\n",
        "    self.name = name\n",
        "  def greet(self, loud =False):\n",
        "    if loud:\n",
        "      print('Hello : %s' % self.name.capitalize())\n",
        "    else:\n",
        "      print('Hello : %s' % self.name.upper())\n",
        "\n",
        "y = Greeter('reza')\n",
        "y.greet(False)"
      ],
      "metadata": {
        "colab": {
          "base_uri": "https://localhost:8080/"
        },
        "id": "PdyNVSBBVzUh",
        "outputId": "d2c33948-61fc-4914-9e86-aaac0b5fddd4"
      },
      "execution_count": 63,
      "outputs": [
        {
          "output_type": "stream",
          "name": "stdout",
          "text": [
            "Hello : REZA\n"
          ]
        }
      ]
    },
    {
      "cell_type": "code",
      "source": [
        "import numpy as np\n",
        "import matplotlib.pyplot as plt\n",
        "\n",
        "a = [[3,2,4,5],[9,1,4,2]]\n",
        "b = np.array(a)\n",
        "print(b.shape)"
      ],
      "metadata": {
        "colab": {
          "base_uri": "https://localhost:8080/"
        },
        "id": "1ej-at9-Y79X",
        "outputId": "944d63d7-d847-4e51-c6b4-681d6fc1d5cc"
      },
      "execution_count": 68,
      "outputs": [
        {
          "output_type": "stream",
          "name": "stdout",
          "text": [
            "(2, 4)\n"
          ]
        }
      ]
    },
    {
      "cell_type": "code",
      "source": [
        "np.eye(5)"
      ],
      "metadata": {
        "colab": {
          "base_uri": "https://localhost:8080/"
        },
        "id": "iwqxhmixaHI8",
        "outputId": "f0496449-2ae5-49d3-d176-e00b5afad5a2"
      },
      "execution_count": 71,
      "outputs": [
        {
          "output_type": "execute_result",
          "data": {
            "text/plain": [
              "array([[1., 0., 0., 0., 0.],\n",
              "       [0., 1., 0., 0., 0.],\n",
              "       [0., 0., 1., 0., 0.],\n",
              "       [0., 0., 0., 1., 0.],\n",
              "       [0., 0., 0., 0., 1.]])"
            ]
          },
          "metadata": {},
          "execution_count": 71
        }
      ]
    },
    {
      "cell_type": "code",
      "source": [
        "a = np.random.rand(2,3)\n",
        "print(a)"
      ],
      "metadata": {
        "colab": {
          "base_uri": "https://localhost:8080/"
        },
        "id": "e_2TQ3QVawha",
        "outputId": "d8bcf63a-5efe-43a7-ce46-8886ef7ee545"
      },
      "execution_count": 74,
      "outputs": [
        {
          "output_type": "stream",
          "name": "stdout",
          "text": [
            "[[0.78382502 0.60873131 0.68770844]\n",
            " [0.92150292 0.67040342 0.40625764]]\n"
          ]
        }
      ]
    },
    {
      "cell_type": "code",
      "source": [
        "a[:,1]"
      ],
      "metadata": {
        "colab": {
          "base_uri": "https://localhost:8080/"
        },
        "id": "0DwlMoBIa-8q",
        "outputId": "b91dc994-c5c3-41a2-b29d-a678bb7ad68d"
      },
      "execution_count": 78,
      "outputs": [
        {
          "output_type": "execute_result",
          "data": {
            "text/plain": [
              "array([0.60873131, 0.67040342])"
            ]
          },
          "metadata": {},
          "execution_count": 78
        }
      ]
    },
    {
      "cell_type": "code",
      "source": [
        "a[-1,:]"
      ],
      "metadata": {
        "colab": {
          "base_uri": "https://localhost:8080/"
        },
        "id": "nwZ6LcKibRbn",
        "outputId": "76f5cb43-93f5-424f-bbe5-35b9366099cf"
      },
      "execution_count": 79,
      "outputs": [
        {
          "output_type": "execute_result",
          "data": {
            "text/plain": [
              "array([0.92150292, 0.67040342, 0.40625764])"
            ]
          },
          "metadata": {},
          "execution_count": 79
        }
      ]
    },
    {
      "cell_type": "code",
      "source": [
        "a"
      ],
      "metadata": {
        "colab": {
          "base_uri": "https://localhost:8080/"
        },
        "id": "3yBTylHIbr1C",
        "outputId": "db970782-53c1-4b26-d33d-fea94daed224"
      },
      "execution_count": 80,
      "outputs": [
        {
          "output_type": "execute_result",
          "data": {
            "text/plain": [
              "array([[0.78382502, 0.60873131, 0.68770844],\n",
              "       [0.92150292, 0.67040342, 0.40625764]])"
            ]
          },
          "metadata": {},
          "execution_count": 80
        }
      ]
    },
    {
      "cell_type": "code",
      "source": [
        "a.T"
      ],
      "metadata": {
        "colab": {
          "base_uri": "https://localhost:8080/"
        },
        "id": "ye7_ehrTbzIf",
        "outputId": "6df741a4-2be8-41e4-f147-9c2031e53287"
      },
      "execution_count": 81,
      "outputs": [
        {
          "output_type": "execute_result",
          "data": {
            "text/plain": [
              "array([[0.78382502, 0.92150292],\n",
              "       [0.60873131, 0.67040342],\n",
              "       [0.68770844, 0.40625764]])"
            ]
          },
          "metadata": {},
          "execution_count": 81
        }
      ]
    },
    {
      "cell_type": "code",
      "source": [
        "y = a>.5\n",
        "print(y)"
      ],
      "metadata": {
        "colab": {
          "base_uri": "https://localhost:8080/"
        },
        "id": "RLEnUReBb1W0",
        "outputId": "7044c552-63cc-410d-d375-40eb34e048bb"
      },
      "execution_count": 82,
      "outputs": [
        {
          "output_type": "stream",
          "name": "stdout",
          "text": [
            "[[ True  True  True]\n",
            " [ True  True False]]\n"
          ]
        }
      ]
    },
    {
      "cell_type": "code",
      "source": [
        "a[a>.7]"
      ],
      "metadata": {
        "colab": {
          "base_uri": "https://localhost:8080/"
        },
        "id": "5C01uDJicIJx",
        "outputId": "6470ddbe-db0e-41ab-8a58-b7537ee2f675"
      },
      "execution_count": 84,
      "outputs": [
        {
          "output_type": "execute_result",
          "data": {
            "text/plain": [
              "array([0.78382502, 0.92150292])"
            ]
          },
          "metadata": {},
          "execution_count": 84
        }
      ]
    },
    {
      "cell_type": "code",
      "source": [
        "a"
      ],
      "metadata": {
        "colab": {
          "base_uri": "https://localhost:8080/"
        },
        "id": "nmUlMBSvcVfO",
        "outputId": "07365362-f297-487b-8b88-517b2887ba96"
      },
      "execution_count": 85,
      "outputs": [
        {
          "output_type": "execute_result",
          "data": {
            "text/plain": [
              "array([[0.78382502, 0.60873131, 0.68770844],\n",
              "       [0.92150292, 0.67040342, 0.40625764]])"
            ]
          },
          "metadata": {},
          "execution_count": 85
        }
      ]
    },
    {
      "cell_type": "code",
      "source": [
        "type(a)"
      ],
      "metadata": {
        "colab": {
          "base_uri": "https://localhost:8080/"
        },
        "id": "Y5OYXYjGcr1T",
        "outputId": "00ce9d5b-a5cb-4d57-feb0-b6af0b513dae"
      },
      "execution_count": 86,
      "outputs": [
        {
          "output_type": "execute_result",
          "data": {
            "text/plain": [
              "numpy.ndarray"
            ]
          },
          "metadata": {},
          "execution_count": 86
        }
      ]
    },
    {
      "cell_type": "code",
      "source": [
        "a.dtype"
      ],
      "metadata": {
        "colab": {
          "base_uri": "https://localhost:8080/"
        },
        "id": "tOoMrUwYctul",
        "outputId": "9adbcb08-92db-41b7-bf35-79eb84f0d1c7"
      },
      "execution_count": 87,
      "outputs": [
        {
          "output_type": "execute_result",
          "data": {
            "text/plain": [
              "dtype('float64')"
            ]
          },
          "metadata": {},
          "execution_count": 87
        }
      ]
    },
    {
      "cell_type": "code",
      "source": [
        "x = np.array([8.5,5.4], dtype=np.float32)"
      ],
      "metadata": {
        "id": "oKIoz1_Yc0Nz"
      },
      "execution_count": 88,
      "outputs": []
    },
    {
      "cell_type": "code",
      "source": [
        "x.dtype"
      ],
      "metadata": {
        "colab": {
          "base_uri": "https://localhost:8080/"
        },
        "id": "HjqZl7sIdKaf",
        "outputId": "b744dd86-4f28-4052-f453-ca278f7bd05c"
      },
      "execution_count": 89,
      "outputs": [
        {
          "output_type": "execute_result",
          "data": {
            "text/plain": [
              "dtype('float32')"
            ]
          },
          "metadata": {},
          "execution_count": 89
        }
      ]
    },
    {
      "cell_type": "code",
      "source": [
        "import matplotlib.pyplot as plt\n",
        "x = [1,2,3,4]\n",
        "y = [5,3,7,-2]\n",
        "plt.plot(x,y)\n",
        "plt.show()"
      ],
      "metadata": {
        "colab": {
          "base_uri": "https://localhost:8080/",
          "height": 430
        },
        "id": "tZOc38ctdMMQ",
        "outputId": "945b471a-52a3-4022-c1d3-715d0273e099"
      },
      "execution_count": 90,
      "outputs": [
        {
          "output_type": "display_data",
          "data": {
            "text/plain": [
              "<Figure size 640x480 with 1 Axes>"
            ],
            "image/png": "[encoded data removed]"
          },
          "metadata": {}
        }
      ]
    },
    {
      "cell_type": "code",
      "source": [
        "#x = np.arange(0,10,0.01)\n",
        "x = np.linspace(0,6,20)\n",
        "y1 = np.sin(x)\n",
        "y2 =np.cos(x)\n",
        "plt.plot(x,y1,'r^:')\n",
        "plt.plot(x,y2,'bo--')\n",
        "#plt.axis([0,1,-1,1])\n",
        "plt.show()"
      ],
      "metadata": {
        "colab": {
          "base_uri": "https://localhost:8080/",
          "height": 430
        },
        "id": "ikonZYHddrz6",
        "outputId": "3214e8b5-e458-4642-8938-5181ce574ffc"
      },
      "execution_count": 102,
      "outputs": [
        {
          "output_type": "display_data",
          "data": {
            "text/plain": [
              "<Figure size 640x480 with 1 Axes>"
            ],
            "image/png": "[encoded data removed]"
          },
          "metadata": {}
        }
      ]
    },
    {
      "cell_type": "code",
      "source": [
        "x"
      ],
      "metadata": {
        "colab": {
          "base_uri": "https://localhost:8080/"
        },
        "id": "5lmwDiNHeA4H",
        "outputId": "1f10dec6-3703-4b32-c5c3-3b351b8fab05"
      },
      "execution_count": 93,
      "outputs": [
        {
          "output_type": "execute_result",
          "data": {
            "text/plain": [
              "array([0])"
            ]
          },
          "metadata": {},
          "execution_count": 93
        }
      ]
    },
    {
      "cell_type": "code",
      "source": [],
      "metadata": {
        "id": "q4shAjfQeV5e"
      },
      "execution_count": null,
      "outputs": []
    }
  ]
}
